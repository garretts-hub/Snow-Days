{
 "cells": [
  {
   "cell_type": "markdown",
   "id": "9878e137",
   "metadata": {},
   "source": [
    "# Snow Days\n",
    "An interactive notebook graphically displaying the first snow day of the winter season across the continental United States."
   ]
  },
  {
   "cell_type": "markdown",
   "id": "97a934cf",
   "metadata": {},
   "source": [
    "## Start Here:"
   ]
  },
  {
   "cell_type": "markdown",
   "id": "b4921c6a",
   "metadata": {},
   "source": [
    "If you're running in a Google Colaboratory environment, run the cell below. If you've clone the repository and you're running it locally, you can skip this. Note that the output of the cell will be suppressed with `%%capture`, so don't be alarmed if nothing displays."
   ]
  },
  {
   "cell_type": "code",
   "execution_count": null,
   "id": "ba6223fe",
   "metadata": {},
   "outputs": [],
   "source": [
    "#For Google Colab use only: the following commands import dependency files\n",
    "# Skip this cell if running locally.\n",
    "%%capture\n",
    "!git clone https://github.com/garretts-hub/Snow-Days\n",
    "!mv Snow-Days/data Snow-Days/snow_trends.py .\n",
    "!rm -rf Snow-Days\n",
    "!pip install geopandas"
   ]
  },
  {
   "cell_type": "markdown",
   "id": "679bae4b",
   "metadata": {},
   "source": [
    "&nbsp;&nbsp;&nbsp;&nbsp;Run the first cell below, select a year from the dropdown menu (the season runs from fall of the selected year to early spring of the next year), then immediately run the next cell to render an interactive map.<br><br>\n",
    "&nbsp;&nbsp;&nbsp;&nbsp;Drag the slider to display all weather stations that have reported any level of snowfall depth before that date."
   ]
  },
  {
   "cell_type": "code",
   "execution_count": null,
   "id": "f990b068",
   "metadata": {},
   "outputs": [],
   "source": [
    "from snow_trends import generate_merged_dataframe, generate_interactive_map, prompt_for_year\n",
    "year_prompt_widget = prompt_for_year()"
   ]
  },
  {
   "cell_type": "code",
   "execution_count": null,
   "id": "3cf2f87a",
   "metadata": {},
   "outputs": [],
   "source": [
    "selected_year = year_prompt_widget.result\n",
    "snow_station_dataframe = generate_merged_dataframe(selected_year)\n",
    "generate_interactive_map(snow_station_dataframe, selected_year)"
   ]
  },
  {
   "cell_type": "markdown",
   "id": "1d716a52",
   "metadata": {},
   "source": [
    "## Data Details"
   ]
  },
  {
   "cell_type": "markdown",
   "id": "770d5511",
   "metadata": {},
   "source": [
    "&nbsp;&nbsp;&nbsp;&nbsp;All data for this notebook was obtained using the Global Historical Climatology Network daily (GHCNd) dataset. This publicly available dataset integrates daily climate summaries from land stations around the globe for more than a century: \n",
    "https://www.ncei.noaa.gov/products/land-based-station/global-historical-climatology-network-daily <br>\n",
    "&nbsp;&nbsp;&nbsp;&nbsp;The selections for the start and end dates of the \"winter\" season were arbitrary. If desired, these could be changed in `snow_trends.py`.<br>\n",
    "&nbsp;&nbsp;&nbsp;&nbsp;A station was defined as \"having observed snow\" if it recorded a snowfall depth greater than 0 mm, as defined by the `SNOW` data element in the GHCNd dataset having a value greater than zero. While I haven't validated this, it's possible for an area to have snowfall, but if a station didn't report any measurable snow depth, then it's not included here. Also, some areas that undoubtedly had snow probably don't have a station at that exact longitude-latitude, so there's not a recording for that location."
   ]
  },
  {
   "cell_type": "markdown",
   "id": "87d2157f",
   "metadata": {},
   "source": [
    "\n"
   ]
  }
 ],
 "metadata": {
  "kernelspec": {
   "display_name": "Python 3 (ipykernel)",
   "language": "python",
   "name": "python3"
  },
  "language_info": {
   "codemirror_mode": {
    "name": "ipython",
    "version": 3
   },
   "file_extension": ".py",
   "mimetype": "text/x-python",
   "name": "python",
   "nbconvert_exporter": "python",
   "pygments_lexer": "ipython3",
   "version": "3.9.7"
  }
 },
 "nbformat": 4,
 "nbformat_minor": 5
}
